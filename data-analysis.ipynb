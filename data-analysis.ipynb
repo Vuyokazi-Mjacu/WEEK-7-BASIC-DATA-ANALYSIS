# TASK 1

import pandas as pd
import numpy as np
import matplotlib.pyplot as plt
import seaborn as sns
from sklearn.datasets import load_iris


try:
    iris = load_iris()
    df = pd.DataFrame(data=iris.data, columns=iris.feature_names)
    df['species'] = iris.target
    df['species'] = df['species'].map(dict(enumerate(iris.target_names)))
    print("Dataset loaded successfully!")
except Exception as e:
    print(f"Error loading dataset: {e}")

    ....Dataset loaded successfully!


  df.head()
      

print("Dataset Info:")
print(df.info())

print("\nMissing Values:")
print(df.isnull().sum())


      if df.isnull().values.any():
    print("Filling missing values with column mean...")
    df.fillna(df.mean(numeric_only=True), inplace=True)
else:
    print("No missing values found.")


      plt.figure(figsize=(8, 5))
sns.scatterplot(data=df, x='sepal length (cm)', y='sepal width (cm)', hue='species', style='species')
plt.title('Sepal Length vs Width by Species')
plt.xlabel('Sepal Length (cm)')
plt.ylabel('Sepal Width (cm)')
plt.legend(title='Species')
plt.grid(True)
plt.show()


